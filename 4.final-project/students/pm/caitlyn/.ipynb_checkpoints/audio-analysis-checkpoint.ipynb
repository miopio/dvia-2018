{
 "cells": [
  {
   "cell_type": "markdown",
   "metadata": {},
   "source": [
    "## Audio Analysis\n",
    "### Caitlyn Ralph\n",
    "### Free Form"
   ]
  },
  {
   "cell_type": "code",
   "execution_count": 55,
   "metadata": {},
   "outputs": [],
   "source": [
    "# import statements\n",
    "\n",
    "path = \"/Users/caitlynr/Documents/school/dvia-2018/4.final-project/students/pm/caitlyn/\"\n",
    "token = \"BQAxT6S6nb2DJcmiYheB5RXTFcW7FmYOmmbS2WbRiz4k9OLk0Z75M7MXxDXJMF6Ea40L7yUk3f0shPVlTaL9W8yy8FTygE4xCLU6oX_l8LnmYVYYW38KgqFo8fH8R12_s4xl7ZwIwGmb1g5dSkWGWJGK9yGoO_qY\"\n",
    "\n",
    "import pandas as pd\n",
    "import spotipy\n",
    "sp = spotipy.Spotify(auth=token)\n",
    "import numpy as np"
   ]
  },
  {
   "cell_type": "code",
   "execution_count": 56,
   "metadata": {},
   "outputs": [],
   "source": [
    "file = \"spotify-ids.csv\"\n",
    "names = [\"song\",\"id\"]\n",
    "\n",
    "df = pd.read_csv(path + file,names = names)\n",
    "ids = df['id'].tolist()\n",
    "\n",
    "results = sp.audio_features(ids)\n",
    "# print(results)\n",
    "\n",
    "# dance = \"danceability\"\n",
    "# energy = \"energy\"\n",
    "# loud = \"loudness\"\n",
    "# mode = \"mode\"\n",
    "# speech = \"speechiness\"\n",
    "# acoustic = \"acousticness\"\n",
    "# instrumental = \"instrumentalness\"\n",
    "# live = \"liveness\"\n",
    "# valence = \"valence\"\n",
    "# tempo = \"tempo\"\n",
    "\n",
    "rows = []\n",
    "\n",
    "for i in range(0,len(ids)):\n",
    "    dance = results[i][\"danceability\"]\n",
    "    energy = results[i][\"energy\"]\n",
    "    loud = results[i][\"loudness\"]\n",
    "    mode = results[i][\"mode\"]\n",
    "    speech = results[i][\"speechiness\"]\n",
    "    acoustic = results[i][\"acousticness\"]\n",
    "    instrumental = results[i][\"instrumentalness\"]\n",
    "    live = results[i][\"liveness\"]\n",
    "    valence = results[i][\"valence\"]\n",
    "    tempo = results[i][\"tempo\"]\n",
    "    id = results[i][\"id\"]\n",
    "    mask = df[df[\"id\"]==id].index[0]\n",
    "    song = df[\"song\"][mask]\n",
    "    row = [id,song,dance,energy,loud,mode,speech,acoustic,instrumental,live,valence,tempo]\n",
    "    rows.append(row)\n",
    "\n",
    "pd.DataFrame(np.array(rows),columns=[\"id\",\"song\",\"dance\",\"energy\",\"loud\",\"mode\",\"speech\",\"acoustic\",\"instrumental\",\n",
    "                                     \"live\",\"valence\",\"tempo\"]).to_csv(\"audio-features.csv\")"
   ]
  },
  {
   "cell_type": "code",
   "execution_count": null,
   "metadata": {},
   "outputs": [],
   "source": []
  }
 ],
 "metadata": {
  "kernelspec": {
   "display_name": "Python 3",
   "language": "python",
   "name": "python3"
  },
  "language_info": {
   "codemirror_mode": {
    "name": "ipython",
    "version": 3
   },
   "file_extension": ".py",
   "mimetype": "text/x-python",
   "name": "python",
   "nbconvert_exporter": "python",
   "pygments_lexer": "ipython3",
   "version": "3.7.0"
  }
 },
 "nbformat": 4,
 "nbformat_minor": 2
}
